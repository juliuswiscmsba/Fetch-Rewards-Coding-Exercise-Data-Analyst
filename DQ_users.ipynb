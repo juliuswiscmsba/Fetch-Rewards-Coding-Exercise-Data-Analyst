{
 "cells": [
  {
   "cell_type": "code",
   "execution_count": 117,
   "id": "c793a3a5-4fc9-4533-b7fe-55018c03dd0f",
   "metadata": {},
   "outputs": [],
   "source": [
    "#Load library\n",
    "import pandas as pd\n",
    "import numpy as np\n",
    "import matplotlib.pyplot as plt\n",
    "import seaborn as sns"
   ]
  },
  {
   "cell_type": "code",
   "execution_count": 118,
   "id": "8da26475-e8aa-4844-a4f4-210ff8ce6e09",
   "metadata": {},
   "outputs": [],
   "source": [
    "#Read file\n",
    "users = pd.read_json('users.json', lines=True)"
   ]
  },
  {
   "cell_type": "code",
   "execution_count": 119,
   "id": "73a41fce-33d1-472e-b714-e66e66e34940",
   "metadata": {},
   "outputs": [
    {
     "data": {
      "text/html": [
       "<div>\n",
       "<style scoped>\n",
       "    .dataframe tbody tr th:only-of-type {\n",
       "        vertical-align: middle;\n",
       "    }\n",
       "\n",
       "    .dataframe tbody tr th {\n",
       "        vertical-align: top;\n",
       "    }\n",
       "\n",
       "    .dataframe thead th {\n",
       "        text-align: right;\n",
       "    }\n",
       "</style>\n",
       "<table border=\"1\" class=\"dataframe\">\n",
       "  <thead>\n",
       "    <tr style=\"text-align: right;\">\n",
       "      <th></th>\n",
       "      <th>_id</th>\n",
       "      <th>active</th>\n",
       "      <th>createdDate</th>\n",
       "      <th>lastLogin</th>\n",
       "      <th>role</th>\n",
       "      <th>signUpSource</th>\n",
       "      <th>state</th>\n",
       "    </tr>\n",
       "  </thead>\n",
       "  <tbody>\n",
       "    <tr>\n",
       "      <th>0</th>\n",
       "      <td>{'$oid': '5ff1e194b6a9d73a3a9f1052'}</td>\n",
       "      <td>True</td>\n",
       "      <td>{'$date': 1609687444800}</td>\n",
       "      <td>{'$date': 1609687537858}</td>\n",
       "      <td>consumer</td>\n",
       "      <td>Email</td>\n",
       "      <td>WI</td>\n",
       "    </tr>\n",
       "    <tr>\n",
       "      <th>1</th>\n",
       "      <td>{'$oid': '5ff1e194b6a9d73a3a9f1052'}</td>\n",
       "      <td>True</td>\n",
       "      <td>{'$date': 1609687444800}</td>\n",
       "      <td>{'$date': 1609687537858}</td>\n",
       "      <td>consumer</td>\n",
       "      <td>Email</td>\n",
       "      <td>WI</td>\n",
       "    </tr>\n",
       "    <tr>\n",
       "      <th>2</th>\n",
       "      <td>{'$oid': '5ff1e194b6a9d73a3a9f1052'}</td>\n",
       "      <td>True</td>\n",
       "      <td>{'$date': 1609687444800}</td>\n",
       "      <td>{'$date': 1609687537858}</td>\n",
       "      <td>consumer</td>\n",
       "      <td>Email</td>\n",
       "      <td>WI</td>\n",
       "    </tr>\n",
       "    <tr>\n",
       "      <th>3</th>\n",
       "      <td>{'$oid': '5ff1e1eacfcf6c399c274ae6'}</td>\n",
       "      <td>True</td>\n",
       "      <td>{'$date': 1609687530554}</td>\n",
       "      <td>{'$date': 1609687530597}</td>\n",
       "      <td>consumer</td>\n",
       "      <td>Email</td>\n",
       "      <td>WI</td>\n",
       "    </tr>\n",
       "    <tr>\n",
       "      <th>4</th>\n",
       "      <td>{'$oid': '5ff1e194b6a9d73a3a9f1052'}</td>\n",
       "      <td>True</td>\n",
       "      <td>{'$date': 1609687444800}</td>\n",
       "      <td>{'$date': 1609687537858}</td>\n",
       "      <td>consumer</td>\n",
       "      <td>Email</td>\n",
       "      <td>WI</td>\n",
       "    </tr>\n",
       "  </tbody>\n",
       "</table>\n",
       "</div>"
      ],
      "text/plain": [
       "                                    _id  active               createdDate  \\\n",
       "0  {'$oid': '5ff1e194b6a9d73a3a9f1052'}    True  {'$date': 1609687444800}   \n",
       "1  {'$oid': '5ff1e194b6a9d73a3a9f1052'}    True  {'$date': 1609687444800}   \n",
       "2  {'$oid': '5ff1e194b6a9d73a3a9f1052'}    True  {'$date': 1609687444800}   \n",
       "3  {'$oid': '5ff1e1eacfcf6c399c274ae6'}    True  {'$date': 1609687530554}   \n",
       "4  {'$oid': '5ff1e194b6a9d73a3a9f1052'}    True  {'$date': 1609687444800}   \n",
       "\n",
       "                  lastLogin      role signUpSource state  \n",
       "0  {'$date': 1609687537858}  consumer        Email    WI  \n",
       "1  {'$date': 1609687537858}  consumer        Email    WI  \n",
       "2  {'$date': 1609687537858}  consumer        Email    WI  \n",
       "3  {'$date': 1609687530597}  consumer        Email    WI  \n",
       "4  {'$date': 1609687537858}  consumer        Email    WI  "
      ]
     },
     "execution_count": 119,
     "metadata": {},
     "output_type": "execute_result"
    }
   ],
   "source": [
    "users.head()"
   ]
  },
  {
   "cell_type": "code",
   "execution_count": 120,
   "id": "3ffdd340-a5b2-47b8-be00-9b8ea08515aa",
   "metadata": {},
   "outputs": [
    {
     "name": "stdout",
     "output_type": "stream",
     "text": [
      "<class 'pandas.core.frame.DataFrame'>\n",
      "RangeIndex: 495 entries, 0 to 494\n",
      "Data columns (total 7 columns):\n",
      " #   Column        Non-Null Count  Dtype \n",
      "---  ------        --------------  ----- \n",
      " 0   _id           495 non-null    object\n",
      " 1   active        495 non-null    bool  \n",
      " 2   createdDate   495 non-null    object\n",
      " 3   lastLogin     433 non-null    object\n",
      " 4   role          495 non-null    object\n",
      " 5   signUpSource  447 non-null    object\n",
      " 6   state         439 non-null    object\n",
      "dtypes: bool(1), object(6)\n",
      "memory usage: 23.8+ KB\n"
     ]
    }
   ],
   "source": [
    "users.info()"
   ]
  },
  {
   "cell_type": "code",
   "execution_count": 121,
   "id": "11269509-0d5f-4d2d-aac8-6ac974a1914c",
   "metadata": {},
   "outputs": [
    {
     "data": {
      "text/plain": [
       "_id             0.000000\n",
       "active          0.000000\n",
       "createdDate     0.000000\n",
       "lastLogin       0.125253\n",
       "role            0.000000\n",
       "signUpSource    0.096970\n",
       "state           0.113131\n",
       "dtype: float64"
      ]
     },
     "execution_count": 121,
     "metadata": {},
     "output_type": "execute_result"
    }
   ],
   "source": [
    "#Check missing value\n",
    "na_table = users.isna().sum()\n",
    "na_table/len(users)"
   ]
  },
  {
   "cell_type": "code",
   "execution_count": 122,
   "id": "526b1a0d-fd5a-420a-82a1-aa2beaf6bcc9",
   "metadata": {},
   "outputs": [],
   "source": [
    "#Deal woth data format/type issue\n",
    "#id(dict -> string)\n",
    "new_id = []\n",
    "id_list = users['_id'].tolist()\n",
    "for i in id_list:\n",
    "    new_id.append(i['$oid'])\n",
    "users['_id'] = new_id \n",
    "users['_id'] = users['_id'].astype('string')"
   ]
  },
  {
   "cell_type": "code",
   "execution_count": 123,
   "id": "639c54f3-4d11-49f5-8ab7-d7e3643f2376",
   "metadata": {},
   "outputs": [],
   "source": [
    "#Date(object to datetime)\n",
    "for col in ['createdDate','lastLogin']:\n",
    "    datetemp=[]\n",
    "    temp = users[col].tolist()\n",
    "    for row in temp:\n",
    "        if type(row) != float:\n",
    "            datetemp.append(pd.to_datetime(row['$date']))\n",
    "        else:\n",
    "            datetemp.append('')\n",
    "    users[col] = datetemp"
   ]
  },
  {
   "cell_type": "code",
   "execution_count": 124,
   "id": "d02b8486-c56a-40b9-876c-0664e85aaa3a",
   "metadata": {},
   "outputs": [
    {
     "name": "stdout",
     "output_type": "stream",
     "text": [
      "283\n",
      "0\n"
     ]
    }
   ],
   "source": [
    "#Duplicate Check, if duplicate then drop\n",
    "print(users.duplicated().sum())\n",
    "users.drop_duplicates(inplace=True)\n",
    "print(users.duplicated().sum())"
   ]
  },
  {
   "cell_type": "code",
   "execution_count": 125,
   "id": "f7f21bf1-d3e3-4303-8ae5-7549a3d72e23",
   "metadata": {},
   "outputs": [
    {
     "data": {
      "text/plain": [
       "<AxesSubplot:xlabel='active', ylabel='count'>"
      ]
     },
     "execution_count": 125,
     "metadata": {},
     "output_type": "execute_result"
    },
    {
     "data": {
      "image/png": "[encoded data removed]",
      "text/plain": [
       "<Figure size 432x288 with 1 Axes>"
      ]
     },
     "metadata": {
      "needs_background": "light"
     },
     "output_type": "display_data"
    }
   ],
   "source": [
    "#Check imbalance\n",
    "active_prop = pd.DataFrame(users.active.value_counts())\n",
    "active_prop.reset_index(inplace=True)\n",
    "active_prop.rename(columns={'index':'active', 'active':'count'},inplace=True)\n",
    "sns.barplot(x='active', y='count',data=active_prop)"
   ]
  },
  {
   "cell_type": "code",
   "execution_count": 126,
   "id": "ed7441d3-3714-400a-b4ee-79180881b494",
   "metadata": {},
   "outputs": [
    {
     "data": {
      "text/plain": [
       "<AxesSubplot:xlabel='signUpSource', ylabel='count'>"
      ]
     },
     "execution_count": 126,
     "metadata": {},
     "output_type": "execute_result"
    },
    {
     "data": {
      "image/png": "[encoded data removed]",
      "text/plain": [
       "<Figure size 432x288 with 1 Axes>"
      ]
     },
     "metadata": {
      "needs_background": "light"
     },
     "output_type": "display_data"
    }
   ],
   "source": [
    "source_prop = pd.DataFrame(users.signUpSource.value_counts())\n",
    "source_prop.reset_index(inplace=True)\n",
    "source_prop.rename(columns={'index':'signUpSource', 'signUpSource':'count'},inplace=True)\n",
    "sns.barplot(x='signUpSource', y='count',data=source_prop)"
   ]
  },
  {
   "cell_type": "code",
   "execution_count": 127,
   "id": "11f0030e-95aa-4ab7-a2e1-e7073418d0ae",
   "metadata": {},
   "outputs": [
    {
     "data": {
      "text/plain": [
       "<AxesSubplot:xlabel='state', ylabel='count'>"
      ]
     },
     "execution_count": 127,
     "metadata": {},
     "output_type": "execute_result"
    },
    {
     "data": {
      "image/png": "[encoded data removed]",
      "text/plain": [
       "<Figure size 432x288 with 1 Axes>"
      ]
     },
     "metadata": {
      "needs_background": "light"
     },
     "output_type": "display_data"
    }
   ],
   "source": [
    "states_prop = pd.DataFrame(users.state.value_counts())\n",
    "states_prop.reset_index(inplace=True)\n",
    "states_prop.rename(columns={'index':'state', 'state':'count'},inplace=True)\n",
    "sns.barplot(x='state', y='count', data = states_prop)"
   ]
  },
  {
   "cell_type": "markdown",
   "id": "69243942-7318-441b-89f1-947223ccb88b",
   "metadata": {},
   "source": [
    "Data Quality Issues:\n",
    "1. Wrong data type issue.\n",
    "2. Some missing value in the dataset.\n",
    "3. Duplicate data (283 rows, more than half of the dataset).\n",
    "4. Aware of imbalance in 'active', 'signUpSource', and 'states' if we want to do more analysis or build models."
   ]
  },
  {
   "cell_type": "code",
   "execution_count": null,
   "id": "c9a32cd1-91de-4df0-afde-48e1a11a1386",
   "metadata": {},
   "outputs": [],
   "source": []
  }
 ],
 "metadata": {
  "kernelspec": {
   "display_name": "Python 3",
   "language": "python",
   "name": "python3"
  },
  "language_info": {
   "codemirror_mode": {
    "name": "ipython",
    "version": 3
   },
   "file_extension": ".py",
   "mimetype": "text/x-python",
   "name": "python",
   "nbconvert_exporter": "python",
   "pygments_lexer": "ipython3",
   "version": "3.8.2"
  }
 },
 "nbformat": 4,
 "nbformat_minor": 5
}
